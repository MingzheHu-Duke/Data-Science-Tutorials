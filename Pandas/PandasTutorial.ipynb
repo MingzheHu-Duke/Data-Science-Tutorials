{
  "nbformat": 4,
  "nbformat_minor": 0,
  "metadata": {
    "colab": {
      "name": "PandasTutorial.ipynb",
      "provenance": [],
      "collapsed_sections": [],
      "authorship_tag": "ABX9TyPnD2NF4svMKQDormhRTljs",
      "include_colab_link": true
    },
    "kernelspec": {
      "name": "python3",
      "display_name": "Python 3"
    },
    "language_info": {
      "name": "python"
    }
  },
  "cells": [
    {
      "cell_type": "markdown",
      "metadata": {
        "id": "view-in-github",
        "colab_type": "text"
      },
      "source": [
        "<a href=\"https://colab.research.google.com/github/MingzheHu-Duke/Data-Science-Tutorials/blob/main/Pandas/PandasTutorial.ipynb\" target=\"_parent\"><img src=\"https://colab.research.google.com/assets/colab-badge.svg\" alt=\"Open In Colab\"/></a>"
      ]
    },
    {
      "cell_type": "code",
      "metadata": {
        "id": "l-ZjeBMJphsb"
      },
      "source": [
        "import pandas as pd"
      ],
      "execution_count": 1,
      "outputs": []
    },
    {
      "cell_type": "markdown",
      "metadata": {
        "id": "t3tPEHTwrgiF"
      },
      "source": [
        "**Pandas Series**"
      ]
    },
    {
      "cell_type": "code",
      "metadata": {
        "colab": {
          "base_uri": "https://localhost:8080/"
        },
        "id": "ht3CNyAPrk7B",
        "outputId": "18339198-6279-4c3b-bad7-cdc859e8a4bf"
      },
      "source": [
        "a = [1, 7, 2]\n",
        "\n",
        "my_var = pd.Series(a)\n",
        "\n",
        "print(my_var)"
      ],
      "execution_count": null,
      "outputs": [
        {
          "output_type": "stream",
          "name": "stdout",
          "text": [
            "0    1\n",
            "1    7\n",
            "2    2\n",
            "dtype: int64\n"
          ]
        }
      ]
    },
    {
      "cell_type": "code",
      "metadata": {
        "colab": {
          "base_uri": "https://localhost:8080/"
        },
        "id": "_afQpJmyr1Vx",
        "outputId": "7f56eb81-2e1e-4b8a-89b1-95ba9d7bb58f"
      },
      "source": [
        "print(my_var[0])"
      ],
      "execution_count": null,
      "outputs": [
        {
          "output_type": "stream",
          "name": "stdout",
          "text": [
            "1\n"
          ]
        }
      ]
    },
    {
      "cell_type": "code",
      "metadata": {
        "colab": {
          "base_uri": "https://localhost:8080/"
        },
        "id": "7y3gTnIwr9Q4",
        "outputId": "378e85cc-4ac8-4c08-feee-974fcb736fbf"
      },
      "source": [
        "# Create labels\n",
        "a = [1, 7, 2]\n",
        "\n",
        "my_var = pd.Series(a, index=[\"x\", \"y\", \"z\"])\n",
        "\n",
        "print(my_var)"
      ],
      "execution_count": null,
      "outputs": [
        {
          "output_type": "stream",
          "name": "stdout",
          "text": [
            "x    1\n",
            "y    7\n",
            "z    2\n",
            "dtype: int64\n"
          ]
        }
      ]
    },
    {
      "cell_type": "code",
      "metadata": {
        "colab": {
          "base_uri": "https://localhost:8080/"
        },
        "id": "pK5JW08PsVx-",
        "outputId": "5866f8b7-e957-42b2-9928-e7767738dcbe"
      },
      "source": [
        "# Access an item by referringr to the label\n",
        "print(my_var[\"y\"])"
      ],
      "execution_count": null,
      "outputs": [
        {
          "output_type": "stream",
          "name": "stdout",
          "text": [
            "7\n"
          ]
        }
      ]
    },
    {
      "cell_type": "code",
      "metadata": {
        "colab": {
          "base_uri": "https://localhost:8080/"
        },
        "id": "pYXkMUihse-q",
        "outputId": "1f013209-1b3f-4835-beea-f2ef173b9098"
      },
      "source": [
        "# Key/Value Objects as Series\n",
        "calories = {\"day1\":1000, \"day2\":200, \"day3\":500}\n",
        "\n",
        "my_var = pd.Series(calories)\n",
        "\n",
        "print(my_var)"
      ],
      "execution_count": null,
      "outputs": [
        {
          "output_type": "stream",
          "name": "stdout",
          "text": [
            "day1    1000\n",
            "day2     200\n",
            "day3     500\n",
            "dtype: int64\n"
          ]
        }
      ]
    },
    {
      "cell_type": "code",
      "metadata": {
        "colab": {
          "base_uri": "https://localhost:8080/"
        },
        "id": "rsYFSnYas6Hz",
        "outputId": "7be629a1-d2e3-4885-9dd2-11a41b743262"
      },
      "source": [
        "# Select only some of the items in the dictionary\n",
        "calories = {\"day1\":1000, \"day2\":200, \"day3\":500}\n",
        "\n",
        "my_var = pd.Series(calories, index=[\"day1\", \"day2\"])\n",
        "\n",
        "print(my_var)"
      ],
      "execution_count": null,
      "outputs": [
        {
          "output_type": "stream",
          "name": "stdout",
          "text": [
            "day1    1000\n",
            "day2     200\n",
            "dtype: int64\n"
          ]
        }
      ]
    },
    {
      "cell_type": "code",
      "metadata": {
        "colab": {
          "base_uri": "https://localhost:8080/"
        },
        "id": "qmeayH68yoLo",
        "outputId": "78ffaf98-880b-485e-8ad7-654ba385f4aa"
      },
      "source": [
        "# Create an empty Series\n",
        "s = pd.Series()\n",
        "print(s)"
      ],
      "execution_count": null,
      "outputs": [
        {
          "output_type": "stream",
          "name": "stdout",
          "text": [
            "Series([], dtype: float64)\n"
          ]
        },
        {
          "output_type": "stream",
          "name": "stderr",
          "text": [
            "/usr/local/lib/python3.7/dist-packages/ipykernel_launcher.py:2: DeprecationWarning: The default dtype for empty Series will be 'object' instead of 'float64' in a future version. Specify a dtype explicitly to silence this warning.\n",
            "  \n"
          ]
        }
      ]
    },
    {
      "cell_type": "code",
      "metadata": {
        "colab": {
          "base_uri": "https://localhost:8080/"
        },
        "id": "OqHpCfOz50LW",
        "outputId": "ae8caddb-e377-4a88-9a41-a86b85371ea9"
      },
      "source": [
        "# Create a Series from ndarray\n",
        "import numpy as np\n",
        "data = np.array([\"a\", \"b\", \"c\", \"d\"])\n",
        "s = pd.Series(data)\n",
        "print(s)"
      ],
      "execution_count": null,
      "outputs": [
        {
          "output_type": "stream",
          "name": "stdout",
          "text": [
            "0    a\n",
            "1    b\n",
            "2    c\n",
            "3    d\n",
            "dtype: object\n"
          ]
        }
      ]
    },
    {
      "cell_type": "markdown",
      "metadata": {
        "id": "6MC0OPaStSPC"
      },
      "source": [
        "**DataFrames**"
      ]
    },
    {
      "cell_type": "code",
      "metadata": {
        "colab": {
          "base_uri": "https://localhost:8080/"
        },
        "id": "ia1hrFhDtYhm",
        "outputId": "215cf3dd-7e2b-4526-f3be-0179eda43e90"
      },
      "source": [
        "data = {\n",
        "    \"calories\": [40, 300, 189],\n",
        "    \"durations\": [400, 100, 22]\n",
        "}\n",
        "\n",
        "my_var = pd.DataFrame(data)\n",
        "\n",
        "print(my_var)"
      ],
      "execution_count": null,
      "outputs": [
        {
          "output_type": "stream",
          "name": "stdout",
          "text": [
            "   calories  durations\n",
            "0        40        400\n",
            "1       300        100\n",
            "2       189         22\n"
          ]
        }
      ]
    },
    {
      "cell_type": "code",
      "metadata": {
        "colab": {
          "base_uri": "https://localhost:8080/"
        },
        "id": "wwv5o4lityV5",
        "outputId": "a3d82418-5c86-4386-a6d6-0a5861647712"
      },
      "source": [
        "# Locate Row\n",
        "df = my_var\n",
        "\n",
        "print(df.loc[0])"
      ],
      "execution_count": null,
      "outputs": [
        {
          "output_type": "stream",
          "name": "stdout",
          "text": [
            "calories      40\n",
            "durations    400\n",
            "Name: 0, dtype: int64\n"
          ]
        }
      ]
    },
    {
      "cell_type": "code",
      "metadata": {
        "colab": {
          "base_uri": "https://localhost:8080/"
        },
        "id": "hFtTgkYDuRiU",
        "outputId": "93dd1701-babe-4e12-bb53-91a4122c365e"
      },
      "source": [
        "# Use list of indexes\n",
        "print(df.loc[[0, 1]])"
      ],
      "execution_count": null,
      "outputs": [
        {
          "output_type": "stream",
          "name": "stdout",
          "text": [
            "   calories  durations\n",
            "0        40        400\n",
            "1       300        100\n"
          ]
        }
      ]
    },
    {
      "cell_type": "code",
      "metadata": {
        "colab": {
          "base_uri": "https://localhost:8080/"
        },
        "id": "tJNZq5WFuvUy",
        "outputId": "babb4375-a55c-4c4e-b349-99de64fc91af"
      },
      "source": [
        "# Named indexes\n",
        "df = pd.DataFrame(data, index=[\"day1\", \"day2\", \"day3\"])\n",
        "\n",
        "print(df)"
      ],
      "execution_count": null,
      "outputs": [
        {
          "output_type": "stream",
          "name": "stdout",
          "text": [
            "      calories  durations\n",
            "day1        40        400\n",
            "day2       300        100\n",
            "day3       189         22\n"
          ]
        }
      ]
    },
    {
      "cell_type": "code",
      "metadata": {
        "colab": {
          "base_uri": "https://localhost:8080/"
        },
        "id": "ycNkKpIzvBVE",
        "outputId": "78dc9212-00a4-487b-c7a8-deee89dc006e"
      },
      "source": [
        "# locate Named Indexes\n",
        "print(df.loc[\"day2\"])"
      ],
      "execution_count": null,
      "outputs": [
        {
          "output_type": "stream",
          "name": "stdout",
          "text": [
            "calories     300\n",
            "durations    100\n",
            "Name: day2, dtype: int64\n"
          ]
        }
      ]
    },
    {
      "cell_type": "markdown",
      "metadata": {
        "id": "8zJ0OuGNvMWl"
      },
      "source": [
        "**Load Files into a DataFrame**"
      ]
    },
    {
      "cell_type": "code",
      "metadata": {
        "id": "ThNlhmZqvV0d"
      },
      "source": [
        "df.to_csv(\"data.csv\", index=True)"
      ],
      "execution_count": null,
      "outputs": []
    },
    {
      "cell_type": "code",
      "metadata": {
        "colab": {
          "base_uri": "https://localhost:8080/"
        },
        "id": "Rt4VkvCWvzgw",
        "outputId": "94090742-eeeb-4810-8665-a030f578f0e2"
      },
      "source": [
        "!test -f data.csv && echo \"$FILE saved csv file exists!\""
      ],
      "execution_count": null,
      "outputs": [
        {
          "output_type": "stream",
          "name": "stdout",
          "text": [
            " saved csv file exists!\n"
          ]
        }
      ]
    },
    {
      "cell_type": "code",
      "metadata": {
        "colab": {
          "base_uri": "https://localhost:8080/"
        },
        "id": "oOP8j9H6wOwi",
        "outputId": "5afe49e7-f396-4848-d278-3ff831d240f1"
      },
      "source": [
        "df = pd.read_csv(\"data.csv\")\n",
        "\n",
        "print(df)"
      ],
      "execution_count": null,
      "outputs": [
        {
          "output_type": "stream",
          "name": "stdout",
          "text": [
            "  Unnamed: 0  calories  durations\n",
            "0       day1        40        400\n",
            "1       day2       300        100\n",
            "2       day3       189         22\n"
          ]
        }
      ]
    },
    {
      "cell_type": "markdown",
      "metadata": {
        "id": "gN6rkEy3xiba"
      },
      "source": [
        "# DataFrame"
      ]
    },
    {
      "cell_type": "code",
      "metadata": {
        "colab": {
          "base_uri": "https://localhost:8080/"
        },
        "id": "G4MhlRTxHwJF",
        "outputId": "2111f5b2-5060-4d93-ad34-c1ad9ddd9f92"
      },
      "source": [
        "df = pd.DataFrame()\n",
        "print(df)"
      ],
      "execution_count": 2,
      "outputs": [
        {
          "output_type": "stream",
          "name": "stdout",
          "text": [
            "Empty DataFrame\n",
            "Columns: []\n",
            "Index: []\n"
          ]
        }
      ]
    },
    {
      "cell_type": "code",
      "metadata": {
        "colab": {
          "base_uri": "https://localhost:8080/"
        },
        "id": "0GNzW_VuH3Vz",
        "outputId": "2fbfd2c4-1d1e-47d4-bf15-168c10ae89e8"
      },
      "source": [
        "data = [1, 2, 3, 4, 5]\n",
        "df = pd.DataFrame(data)\n",
        "\n",
        "print(df)"
      ],
      "execution_count": 3,
      "outputs": [
        {
          "output_type": "stream",
          "name": "stdout",
          "text": [
            "   0\n",
            "0  1\n",
            "1  2\n",
            "2  3\n",
            "3  4\n",
            "4  5\n"
          ]
        }
      ]
    },
    {
      "cell_type": "code",
      "metadata": {
        "colab": {
          "base_uri": "https://localhost:8080/"
        },
        "id": "TDHOOIRaIAjh",
        "outputId": "f6e683da-bca9-4ad4-a520-93db2e8c8c2f"
      },
      "source": [
        "data = [[\"A\", 10], [\"B\", 12], [\"C\", 13]]\n",
        "df = pd.DataFrame(data, columns=[\"Name\", \"Age\"])\n",
        "print(df)"
      ],
      "execution_count": 4,
      "outputs": [
        {
          "output_type": "stream",
          "name": "stdout",
          "text": [
            "  Name  Age\n",
            "0    A   10\n",
            "1    B   12\n",
            "2    C   13\n"
          ]
        }
      ]
    },
    {
      "cell_type": "code",
      "metadata": {
        "colab": {
          "base_uri": "https://localhost:8080/"
        },
        "id": "Z1pN71AnIgkC",
        "outputId": "712023c1-68bb-478b-b0e0-271f86a0dca1"
      },
      "source": [
        "data = [[\"A\", 10], [\"B\", 12], [\"C\", 13]]\n",
        "df = pd.DataFrame(data, columns=[\"Name\", \"Age\"], dtype=float)\n",
        "print(df)\n",
        "print(df.dtypes)"
      ],
      "execution_count": 6,
      "outputs": [
        {
          "output_type": "stream",
          "name": "stdout",
          "text": [
            "  Name   Age\n",
            "0    A  10.0\n",
            "1    B  12.0\n",
            "2    C  13.0\n",
            "Name     object\n",
            "Age     float64\n",
            "dtype: object\n"
          ]
        }
      ]
    },
    {
      "cell_type": "code",
      "metadata": {
        "colab": {
          "base_uri": "https://localhost:8080/"
        },
        "id": "h2nSohG1Irq6",
        "outputId": "ba60d6b2-181a-4e57-a59c-1bb49afcb2a7"
      },
      "source": [
        "data = {\"Name\": [\"Tom\", \"Jack\", \"Steve\", \"Ricky\"], \"Age\":[23, 24, 25, 32]}\n",
        "df = pd.DataFrame(data)\n",
        "\n",
        "print(df)"
      ],
      "execution_count": 8,
      "outputs": [
        {
          "output_type": "stream",
          "name": "stdout",
          "text": [
            "    Name  Age\n",
            "0    Tom   23\n",
            "1   Jack   24\n",
            "2  Steve   25\n",
            "3  Ricky   32\n"
          ]
        }
      ]
    },
    {
      "cell_type": "code",
      "metadata": {
        "colab": {
          "base_uri": "https://localhost:8080/"
        },
        "id": "Zn_K6JhZJG_x",
        "outputId": "936c454e-047b-4ef3-8256-0b9a89c0c004"
      },
      "source": [
        "data = {'Name':['Tom', 'Jack', 'Steve', 'Ricky'],'Age':[28,34,29,42]}\n",
        "df = pd.DataFrame(data, index=['rank1','rank2','rank3','rank4'])\n",
        "print(df)"
      ],
      "execution_count": 10,
      "outputs": [
        {
          "output_type": "stream",
          "name": "stdout",
          "text": [
            "        Name  Age\n",
            "rank1    Tom   28\n",
            "rank2   Jack   34\n",
            "rank3  Steve   29\n",
            "rank4  Ricky   42\n"
          ]
        }
      ]
    },
    {
      "cell_type": "code",
      "metadata": {
        "colab": {
          "base_uri": "https://localhost:8080/"
        },
        "id": "PM0_wv3HJKxo",
        "outputId": "b16310e5-29e7-4cc1-a92a-98279a32ae46"
      },
      "source": [
        "data = [{\"a\":1, \"b\":2}, {\"a\":5, \"b\":10, \"c\":20}]\n",
        "\n",
        "df = pd.DataFrame(data, index=[\"first\", \"Second\"], columns=[\"a\", \"b1\"])\n",
        "\n",
        "print(df)"
      ],
      "execution_count": 13,
      "outputs": [
        {
          "output_type": "stream",
          "name": "stdout",
          "text": [
            "        a  b1\n",
            "first   1 NaN\n",
            "Second  5 NaN\n"
          ]
        }
      ]
    },
    {
      "cell_type": "markdown",
      "metadata": {
        "id": "5P6XJlyWKk7u"
      },
      "source": [
        "**Column Selection**"
      ]
    },
    {
      "cell_type": "code",
      "metadata": {
        "colab": {
          "base_uri": "https://localhost:8080/"
        },
        "id": "xUS2hG9oKpR5",
        "outputId": "071dc09e-8c00-4467-8d12-0ee326399cad"
      },
      "source": [
        "d = {'one' : pd.Series([1, 2, 3], index=['a', 'b', 'c']),\n",
        "   'two' : pd.Series([1, 2, 3, 4], index=['a', 'b', 'c', 'd'])}\n",
        "\n",
        "df = pd.DataFrame(d)\n",
        "\n",
        "print(df[\"one\"])"
      ],
      "execution_count": 15,
      "outputs": [
        {
          "output_type": "stream",
          "name": "stdout",
          "text": [
            "a    1.0\n",
            "b    2.0\n",
            "c    3.0\n",
            "d    NaN\n",
            "Name: one, dtype: float64\n"
          ]
        }
      ]
    },
    {
      "cell_type": "code",
      "metadata": {
        "colab": {
          "base_uri": "https://localhost:8080/"
        },
        "id": "zlyAwJmAK2_A",
        "outputId": "ebdb9536-6b1a-40ac-ed3c-83a5b5ce30a3"
      },
      "source": [
        "print(\"Adding a new column by passing as Series:\")\n",
        "df[\"three\"] = pd.Series([10, 20, 30], index=[\"a\", \"b\", \"c\"])\n",
        "print(df)\n",
        "df[\"four\"] = df[\"one\"] + df[\"three\"]\n",
        "print(df)"
      ],
      "execution_count": 16,
      "outputs": [
        {
          "output_type": "stream",
          "name": "stdout",
          "text": [
            "Adding a new column by passing as Series:\n",
            "   one  two  three\n",
            "a  1.0    1   10.0\n",
            "b  2.0    2   20.0\n",
            "c  3.0    3   30.0\n",
            "d  NaN    4    NaN\n",
            "   one  two  three  four\n",
            "a  1.0    1   10.0  11.0\n",
            "b  2.0    2   20.0  22.0\n",
            "c  3.0    3   30.0  33.0\n",
            "d  NaN    4    NaN   NaN\n"
          ]
        }
      ]
    },
    {
      "cell_type": "code",
      "metadata": {
        "id": "AyBIC0zWXXHW"
      },
      "source": [
        "# Column Deletion\n",
        "del(df[\"one\"])"
      ],
      "execution_count": 17,
      "outputs": []
    },
    {
      "cell_type": "code",
      "metadata": {
        "colab": {
          "base_uri": "https://localhost:8080/"
        },
        "id": "h6o10fkzXz9s",
        "outputId": "3c7e706b-c658-4f95-aa27-b0cc5e794105"
      },
      "source": [
        "print(df)"
      ],
      "execution_count": 18,
      "outputs": [
        {
          "output_type": "stream",
          "name": "stdout",
          "text": [
            "   two  three  four\n",
            "a    1   10.0  11.0\n",
            "b    2   20.0  22.0\n",
            "c    3   30.0  33.0\n",
            "d    4    NaN   NaN\n"
          ]
        }
      ]
    },
    {
      "cell_type": "code",
      "metadata": {
        "colab": {
          "base_uri": "https://localhost:8080/"
        },
        "id": "NTzHesj9X1vc",
        "outputId": "71141d55-bf45-45be-8189-28fef30695cf"
      },
      "source": [
        "df.pop(\"two\")\n",
        "print(df)"
      ],
      "execution_count": 19,
      "outputs": [
        {
          "output_type": "stream",
          "name": "stdout",
          "text": [
            "   three  four\n",
            "a   10.0  11.0\n",
            "b   20.0  22.0\n",
            "c   30.0  33.0\n",
            "d    NaN   NaN\n"
          ]
        }
      ]
    },
    {
      "cell_type": "code",
      "metadata": {
        "colab": {
          "base_uri": "https://localhost:8080/"
        },
        "id": "DycsiVdjX8Dr",
        "outputId": "e3d066f3-37b7-4c85-833a-029dec1ac129"
      },
      "source": [
        "d = {'one' : pd.Series([1, 2, 3], index=['a', 'b', 'c']), \n",
        "   'two' : pd.Series([1, 2, 3, 4], index=['a', 'b', 'c', 'd'])}\n",
        "\n",
        "df = pd.DataFrame(d)\n",
        "\n",
        "# Row Selection By Label\n",
        "print(df.loc[\"b\"])"
      ],
      "execution_count": 22,
      "outputs": [
        {
          "output_type": "stream",
          "name": "stdout",
          "text": [
            "one    2.0\n",
            "two    2.0\n",
            "Name: b, dtype: float64\n"
          ]
        }
      ]
    },
    {
      "cell_type": "code",
      "metadata": {
        "colab": {
          "base_uri": "https://localhost:8080/"
        },
        "id": "1kw0dKH4YM1V",
        "outputId": "1100f592-1018-4520-aa69-150c5c84ca47"
      },
      "source": [
        "# Selection by integer location\n",
        "print(df.iloc[2])"
      ],
      "execution_count": 23,
      "outputs": [
        {
          "output_type": "stream",
          "name": "stdout",
          "text": [
            "one    3.0\n",
            "two    3.0\n",
            "Name: c, dtype: float64\n"
          ]
        }
      ]
    },
    {
      "cell_type": "code",
      "metadata": {
        "colab": {
          "base_uri": "https://localhost:8080/"
        },
        "id": "Y4J7F9LIYxBV",
        "outputId": "7b312e65-0783-4c55-9275-2db10c07212f"
      },
      "source": [
        "# Slice row\n",
        "print(df[2:4])"
      ],
      "execution_count": 28,
      "outputs": [
        {
          "output_type": "stream",
          "name": "stdout",
          "text": [
            "   one  two\n",
            "c  3.0    3\n",
            "d  NaN    4\n"
          ]
        }
      ]
    },
    {
      "cell_type": "code",
      "metadata": {
        "colab": {
          "base_uri": "https://localhost:8080/"
        },
        "id": "SxmbP0nWZFz2",
        "outputId": "625d5724-d381-4b48-85b3-d8b141954d84"
      },
      "source": [
        "# Addition of Row\n",
        "df = pd.DataFrame([[1, 2], [3, 4]], columns=[\"a\", \"b\"])\n",
        "df2 = pd.DataFrame([[5, 6], [7, 8]], columns = ['a','b'])\n",
        "\n",
        "df = df.append(df2)\n",
        "print(df)"
      ],
      "execution_count": 29,
      "outputs": [
        {
          "output_type": "stream",
          "name": "stdout",
          "text": [
            "   a  b\n",
            "0  1  2\n",
            "1  3  4\n",
            "0  5  6\n",
            "1  7  8\n"
          ]
        }
      ]
    },
    {
      "cell_type": "code",
      "metadata": {
        "colab": {
          "base_uri": "https://localhost:8080/"
        },
        "id": "9807vvrRZn4z",
        "outputId": "9a9d6378-7e6f-4e74-9d73-9861813196fc"
      },
      "source": [
        "# Delection of Rows\n",
        "df = df.drop(0)\n",
        "print(df)"
      ],
      "execution_count": 30,
      "outputs": [
        {
          "output_type": "stream",
          "name": "stdout",
          "text": [
            "   a  b\n",
            "1  3  4\n",
            "1  7  8\n"
          ]
        }
      ]
    }
  ]
}