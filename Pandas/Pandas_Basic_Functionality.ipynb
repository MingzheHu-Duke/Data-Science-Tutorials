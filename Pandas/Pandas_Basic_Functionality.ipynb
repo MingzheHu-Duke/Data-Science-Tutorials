{
  "nbformat": 4,
  "nbformat_minor": 0,
  "metadata": {
    "colab": {
      "name": "Pandas Basic Functionality.ipynb",
      "provenance": [],
      "authorship_tag": "ABX9TyOTcE6ZAeT3LNpWk7PDvgnj",
      "include_colab_link": true
    },
    "kernelspec": {
      "name": "python3",
      "display_name": "Python 3"
    },
    "language_info": {
      "name": "python"
    }
  },
  "cells": [
    {
      "cell_type": "markdown",
      "metadata": {
        "id": "view-in-github",
        "colab_type": "text"
      },
      "source": [
        "<a href=\"https://colab.research.google.com/github/MingzheHu-Duke/Data-Science-Tutorials/blob/main/Pandas/Pandas_Basic_Functionality.ipynb\" target=\"_parent\"><img src=\"https://colab.research.google.com/assets/colab-badge.svg\" alt=\"Open In Colab\"/></a>"
      ]
    },
    {
      "cell_type": "code",
      "metadata": {
        "id": "R6lakjiNbdW4"
      },
      "source": [
        "import pandas as pd\n",
        "import numpy as np"
      ],
      "execution_count": 3,
      "outputs": []
    },
    {
      "cell_type": "code",
      "metadata": {
        "colab": {
          "base_uri": "https://localhost:8080/"
        },
        "id": "lmxCnwkPcXZB",
        "outputId": "487d40ab-0968-425b-8061-b99480a2388d"
      },
      "source": [
        "s = pd.Series(np.random.randn(4))\n",
        "print(s)"
      ],
      "execution_count": 4,
      "outputs": [
        {
          "output_type": "stream",
          "name": "stdout",
          "text": [
            "0   -0.305314\n",
            "1    0.298300\n",
            "2   -1.267383\n",
            "3   -0.467083\n",
            "dtype: float64\n"
          ]
        }
      ]
    },
    {
      "cell_type": "code",
      "metadata": {
        "colab": {
          "base_uri": "https://localhost:8080/"
        },
        "id": "nGi5uoxHclNw",
        "outputId": "21aec5bc-eedc-495b-913c-8aa17f3278f9"
      },
      "source": [
        "# Return the list of labels of the series\n",
        "print(s.axes)"
      ],
      "execution_count": 5,
      "outputs": [
        {
          "output_type": "stream",
          "name": "stdout",
          "text": [
            "[RangeIndex(start=0, stop=4, step=1)]\n"
          ]
        }
      ]
    },
    {
      "cell_type": "code",
      "metadata": {
        "colab": {
          "base_uri": "https://localhost:8080/"
        },
        "id": "ryqQ0mSLct7E",
        "outputId": "ba47fa11-788c-4d5e-8ebc-7ea51c26d2b5"
      },
      "source": [
        "# Check if the object is empty or not\n",
        "print(s.empty)"
      ],
      "execution_count": 6,
      "outputs": [
        {
          "output_type": "stream",
          "name": "stdout",
          "text": [
            "False\n"
          ]
        }
      ]
    },
    {
      "cell_type": "code",
      "metadata": {
        "colab": {
          "base_uri": "https://localhost:8080/"
        },
        "id": "xrhBFQMgc4_D",
        "outputId": "62fb3464-867b-47da-988f-629a27d663f4"
      },
      "source": [
        "# Dimension of the Series\n",
        "print(s.ndim)"
      ],
      "execution_count": 7,
      "outputs": [
        {
          "output_type": "stream",
          "name": "stdout",
          "text": [
            "1\n"
          ]
        }
      ]
    },
    {
      "cell_type": "code",
      "metadata": {
        "colab": {
          "base_uri": "https://localhost:8080/"
        },
        "id": "gjDGREA7dAz8",
        "outputId": "8c711e64-9d2f-419c-9451-8df9051eac73"
      },
      "source": [
        "# The size of the object\n",
        "print(s.size)"
      ],
      "execution_count": 8,
      "outputs": [
        {
          "output_type": "stream",
          "name": "stdout",
          "text": [
            "4\n"
          ]
        }
      ]
    },
    {
      "cell_type": "code",
      "metadata": {
        "colab": {
          "base_uri": "https://localhost:8080/"
        },
        "id": "tMKt-K1MdG00",
        "outputId": "e6e7a05e-6284-42fb-f6c7-3b4d67fa68b8"
      },
      "source": [
        "# Return the true values of the series as an array\n",
        "print(s.values)"
      ],
      "execution_count": 9,
      "outputs": [
        {
          "output_type": "stream",
          "name": "stdout",
          "text": [
            "[-0.3053141   0.29830021 -1.2673827  -0.467083  ]\n"
          ]
        }
      ]
    },
    {
      "cell_type": "code",
      "metadata": {
        "colab": {
          "base_uri": "https://localhost:8080/"
        },
        "id": "5ByXCHlOdQwL",
        "outputId": "4333a86b-a0bd-41a2-ee4e-f46eebdd9657"
      },
      "source": [
        "# Head and Tail\n",
        "print(s.head(2))\n",
        "\n",
        "print(s.tail(2))"
      ],
      "execution_count": 11,
      "outputs": [
        {
          "output_type": "stream",
          "name": "stdout",
          "text": [
            "0   -0.305314\n",
            "1    0.298300\n",
            "dtype: float64\n",
            "2   -1.267383\n",
            "3   -0.467083\n",
            "dtype: float64\n"
          ]
        }
      ]
    },
    {
      "cell_type": "code",
      "metadata": {
        "colab": {
          "base_uri": "https://localhost:8080/"
        },
        "id": "Ffs5fSNvdZeD",
        "outputId": "4484e3ee-44c2-45a7-f0e6-5b5e5db8f1fe"
      },
      "source": [
        "# The axes of a DataFrame\n",
        "#Create a Dictionary of series\n",
        "d = {'Name':pd.Series(['Tom','James','Ricky','Vin','Steve','Smith','Jack']),\n",
        "   'Age':pd.Series([25,26,25,23,30,29,23]),\n",
        "   'Rating':pd.Series([4.23,3.24,3.98,2.56,3.20,4.6,3.8])}\n",
        "\n",
        "#Create a DataFrame\n",
        "df = pd.DataFrame(d)\n",
        "print(\"Row axis labels and column axis labels are:\")\n",
        "print(df.axes)"
      ],
      "execution_count": 13,
      "outputs": [
        {
          "output_type": "stream",
          "name": "stdout",
          "text": [
            "Row axis labels and column axis labels are:\n",
            "[RangeIndex(start=0, stop=7, step=1), Index(['Name', 'Age', 'Rating'], dtype='object')]\n"
          ]
        }
      ]
    }
  ]
}